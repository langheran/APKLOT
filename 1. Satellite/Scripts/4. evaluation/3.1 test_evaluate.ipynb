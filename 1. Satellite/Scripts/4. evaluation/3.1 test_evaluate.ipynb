{
 "cells": [
  {
   "cell_type": "code",
   "execution_count": null,
   "metadata": {},
   "outputs": [],
   "source": [
    "import warnings\n",
    "warnings.filterwarnings('ignore')\n",
    "import numpy as np\n",
    "\n",
    "def computeIoU(y_pred_batch, y_true_batch):\n",
    "    results1=np.asarray([pixelAccuracy(y_pred_batch[i], y_true_batch[i]) for i in range(len(y_true_batch))])\n",
    "    results2=np.asarray([pixelAccuracy(y_pred_batch[i], y_true_batch[i],1) for i in range(len(y_true_batch))])\n",
    "    return np.mean(results1[(results1!=-1)]), results1, results2\n",
    "\n",
    "def pixelAccuracy(y_pred, y_true,dlib=None):\n",
    "    y_pred = np.asarray(y_pred); y_pred=y_pred>0\n",
    "    y_true = np.asarray(y_true); y_true=y_true>0\n",
    "    num_right=y_true[(y_true==y_pred)].shape[0]\n",
    "    num_wrong=y_true[(y_true!=y_pred)].shape[0]\n",
    "    if(dlib is None):\n",
    "        return float(y_true[(y_true==y_pred) & (y_true)].shape[0] / y_true[(y_pred) | (y_true)].shape[0]) if (y_true[(y_pred) | (y_true)].shape[0]>0) else -1\n",
    "    else:\n",
    "        return float(num_right/(num_right+num_wrong))\n",
    "\n",
    "import argparse, sys\n",
    "if __name__ == '__main__' and type(__builtins__).__name__=='module' or ( type(__builtins__).__name__=='dict' and 'get_ipython' not in __builtins__):\n",
    "    parser = argparse.ArgumentParser(description = 'Evaluate IoU.')\n",
    "    parser.add_argument('-t', '--true_batch_folder', help = 'True batch folder')\n",
    "    parser.add_argument('-p', '--pred_batch_folder', help = 'Predicted batch folder')\n",
    "    args = parser.parse_args(sys.argv[1:])\n",
    "\n",
    "    true_batch_folder = args.true_batch_folder\n",
    "    pred_batch_folder = args.pred_batch_folder\n",
    "\n",
    "    from scipy import misc\n",
    "    import os\n",
    "    y_true_batch=[]\n",
    "    y_pred_batch=[]\n",
    "    for f in os.listdir(true_batch_folder):\n",
    "        true_mask = misc.imread(os.path.join(true_batch_folder,f), mode='L')\n",
    "        y_true_batch.append(true_mask)\n",
    "        pred_mask = misc.imread(os.path.join(pred_batch_folder,f), mode='L')\n",
    "        y_pred_batch.append(pred_mask)\n",
    "    print(computeIoU(y_true_batch, y_pred_batch))\n",
    "    os.system(\"pause\")"
   ]
  },
  {
   "cell_type": "code",
   "execution_count": 1,
   "metadata": {},
   "outputs": [],
   "source": [
    "from scipy import misc"
   ]
  },
  {
   "cell_type": "code",
   "execution_count": 2,
   "metadata": {},
   "outputs": [],
   "source": [
    "import os"
   ]
  },
  {
   "cell_type": "code",
   "execution_count": 5,
   "metadata": {},
   "outputs": [],
   "source": [
    "import numpy as np"
   ]
  },
  {
   "cell_type": "code",
   "execution_count": 19,
   "metadata": {},
   "outputs": [
    {
     "name": "stderr",
     "output_type": "stream",
     "text": [
      "C:\\Users\\langh\\Miniconda3\\lib\\site-packages\\ipykernel\\__main__.py:1: DeprecationWarning: `imread` is deprecated!\n",
      "`imread` is deprecated in SciPy 1.0.0, and will be removed in 1.2.0.\n",
      "Use ``imageio.imread`` instead.\n",
      "  if __name__ == '__main__':\n",
      "C:\\Users\\langh\\Miniconda3\\lib\\site-packages\\ipykernel\\__main__.py:2: DeprecationWarning: `imread` is deprecated!\n",
      "`imread` is deprecated in SciPy 1.0.0, and will be removed in 1.2.0.\n",
      "Use ``imageio.imread`` instead.\n",
      "  from ipykernel import kernelapp as app\n"
     ]
    }
   ],
   "source": [
    "y_true = misc.imread(r'C:\\Users\\langh\\Dropbox\\MCC-I Masters\\Thesis\\defensa\\resultsTec\\true_batch\\8-Estado de Mexico-TEC.png', mode='L')\n",
    "y_pred = misc.imread(r'C:\\Users\\langh\\Dropbox\\MCC-I Masters\\Thesis\\defensa\\resultsTec\\pred_batch\\8-Estado de Mexico-TEC.png', mode='L')"
   ]
  },
  {
   "cell_type": "code",
   "execution_count": 20,
   "metadata": {},
   "outputs": [
    {
     "data": {
      "text/plain": [
       "(546, 671)"
      ]
     },
     "execution_count": 20,
     "metadata": {},
     "output_type": "execute_result"
    }
   ],
   "source": [
    "y_pred = np.asarray(y_pred);\n",
    "y_pred.shape"
   ]
  },
  {
   "cell_type": "code",
   "execution_count": 21,
   "metadata": {},
   "outputs": [
    {
     "data": {
      "text/plain": [
       "(546, 671)"
      ]
     },
     "execution_count": 21,
     "metadata": {},
     "output_type": "execute_result"
    }
   ],
   "source": [
    "y_pred=y_pred>0\n",
    "y_pred.shape"
   ]
  },
  {
   "cell_type": "code",
   "execution_count": 22,
   "metadata": {},
   "outputs": [
    {
     "data": {
      "text/plain": [
       "(546, 671)"
      ]
     },
     "execution_count": 22,
     "metadata": {},
     "output_type": "execute_result"
    }
   ],
   "source": [
    "y_true = np.asarray(y_true);\n",
    "y_true.shape"
   ]
  },
  {
   "cell_type": "code",
   "execution_count": 23,
   "metadata": {},
   "outputs": [
    {
     "data": {
      "text/plain": [
       "(546, 671)"
      ]
     },
     "execution_count": 23,
     "metadata": {},
     "output_type": "execute_result"
    }
   ],
   "source": [
    "y_true=y_true>0\n",
    "y_true.shape"
   ]
  },
  {
   "cell_type": "code",
   "execution_count": 14,
   "metadata": {},
   "outputs": [],
   "source": [
    "num_right=y_true[(y_true==y_pred)].shape[0]\n",
    "num_wrong=y_true[(y_true!=y_pred)].shape[0]"
   ]
  },
  {
   "cell_type": "code",
   "execution_count": 26,
   "metadata": {},
   "outputs": [
    {
     "data": {
      "text/plain": [
       "366366"
      ]
     },
     "execution_count": 26,
     "metadata": {},
     "output_type": "execute_result"
    }
   ],
   "source": [
    "y_true.shape[0]*y_true.shape[1]"
   ]
  },
  {
   "cell_type": "code",
   "execution_count": 16,
   "metadata": {
    "scrolled": true
   },
   "outputs": [
    {
     "data": {
      "text/plain": [
       "338922"
      ]
     },
     "execution_count": 16,
     "metadata": {},
     "output_type": "execute_result"
    }
   ],
   "source": [
    "num_right"
   ]
  },
  {
   "cell_type": "code",
   "execution_count": 24,
   "metadata": {},
   "outputs": [
    {
     "data": {
      "text/plain": [
       "27444"
      ]
     },
     "execution_count": 24,
     "metadata": {},
     "output_type": "execute_result"
    }
   ],
   "source": [
    "num_wrong"
   ]
  },
  {
   "cell_type": "code",
   "execution_count": 25,
   "metadata": {},
   "outputs": [
    {
     "data": {
      "text/plain": [
       "366366"
      ]
     },
     "execution_count": 25,
     "metadata": {},
     "output_type": "execute_result"
    }
   ],
   "source": [
    "num_wrong+num_right"
   ]
  },
  {
   "cell_type": "code",
   "execution_count": 29,
   "metadata": {},
   "outputs": [
    {
     "data": {
      "text/plain": [
       "110062"
      ]
     },
     "execution_count": 29,
     "metadata": {},
     "output_type": "execute_result"
    }
   ],
   "source": [
    "y_true[(y_pred)].shape[0]"
   ]
  },
  {
   "cell_type": "markdown",
   "metadata": {},
   "source": [
    "### Positives"
   ]
  },
  {
   "cell_type": "markdown",
   "metadata": {},
   "source": [
    "###### True Positives"
   ]
  },
  {
   "cell_type": "code",
   "execution_count": 45,
   "metadata": {},
   "outputs": [
    {
     "data": {
      "text/plain": [
       "88990"
      ]
     },
     "execution_count": 45,
     "metadata": {},
     "output_type": "execute_result"
    }
   ],
   "source": [
    "tp=y_pred[(y_true==y_pred) & (y_pred==1)].shape[0]\n",
    "tp"
   ]
  },
  {
   "cell_type": "markdown",
   "metadata": {},
   "source": [
    "###### True Negatives"
   ]
  },
  {
   "cell_type": "code",
   "execution_count": 46,
   "metadata": {},
   "outputs": [
    {
     "data": {
      "text/plain": [
       "249932"
      ]
     },
     "execution_count": 46,
     "metadata": {},
     "output_type": "execute_result"
    }
   ],
   "source": [
    "tn=y_pred[(y_true==y_pred) & (y_pred==0)].shape[0]\n",
    "tn"
   ]
  },
  {
   "cell_type": "markdown",
   "metadata": {},
   "source": [
    "###### False Positives"
   ]
  },
  {
   "cell_type": "code",
   "execution_count": 47,
   "metadata": {},
   "outputs": [
    {
     "data": {
      "text/plain": [
       "21072"
      ]
     },
     "execution_count": 47,
     "metadata": {},
     "output_type": "execute_result"
    }
   ],
   "source": [
    "fp=y_pred[(y_true!=y_pred) & (y_pred==1)].shape[0]\n",
    "fp"
   ]
  },
  {
   "cell_type": "markdown",
   "metadata": {},
   "source": [
    "###### False Negatives"
   ]
  },
  {
   "cell_type": "code",
   "execution_count": 48,
   "metadata": {},
   "outputs": [
    {
     "data": {
      "text/plain": [
       "6372"
      ]
     },
     "execution_count": 48,
     "metadata": {},
     "output_type": "execute_result"
    }
   ],
   "source": [
    "fn=y_pred[(y_true!=y_pred) & (y_pred==0)].shape[0]\n",
    "fn"
   ]
  },
  {
   "cell_type": "code",
   "execution_count": 49,
   "metadata": {},
   "outputs": [
    {
     "data": {
      "text/plain": [
       "0.7642956524726454"
      ]
     },
     "execution_count": 49,
     "metadata": {},
     "output_type": "execute_result"
    }
   ],
   "source": [
    "acc=tp/(tp+fp+fn)\n",
    "acc"
   ]
  },
  {
   "cell_type": "code",
   "execution_count": 30,
   "metadata": {},
   "outputs": [
    {
     "data": {
      "text/plain": [
       "95362"
      ]
     },
     "execution_count": 30,
     "metadata": {},
     "output_type": "execute_result"
    }
   ],
   "source": [
    "y_true[(y_true)].shape[0]"
   ]
  },
  {
   "cell_type": "markdown",
   "metadata": {},
   "source": [
    "##### "
   ]
  },
  {
   "cell_type": "code",
   "execution_count": 27,
   "metadata": {},
   "outputs": [
    {
     "data": {
      "text/plain": [
       "116434"
      ]
     },
     "execution_count": 27,
     "metadata": {},
     "output_type": "execute_result"
    }
   ],
   "source": [
    "y_true[(y_pred) | (y_true)].shape[0]"
   ]
  }
 ],
 "metadata": {
  "kernelspec": {
   "display_name": "Python 3",
   "language": "python",
   "name": "python3"
  },
  "language_info": {
   "codemirror_mode": {
    "name": "ipython",
    "version": 3
   },
   "file_extension": ".py",
   "mimetype": "text/x-python",
   "name": "python",
   "nbconvert_exporter": "python",
   "pygments_lexer": "ipython3",
   "version": "3.6.4"
  }
 },
 "nbformat": 4,
 "nbformat_minor": 2
}
