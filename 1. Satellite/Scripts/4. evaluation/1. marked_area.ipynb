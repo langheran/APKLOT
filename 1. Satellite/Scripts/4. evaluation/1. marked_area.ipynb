{
 "cells": [
  {
   "cell_type": "code",
   "execution_count": 18,
   "metadata": {},
   "outputs": [],
   "source": [
    "import os\n",
    "\n",
    "PASCAL_PATH = '../../database/PASCAL_format_train300'\n",
    "root_path = os.path.join(PASCAL_PATH,r\"Annotations\")\n",
    "labelme_root_path = os.path.join(PASCAL_PATH,r\"labelme\")\n",
    "\n",
    "def GetLista():\n",
    "    global labelme_root_path\n",
    "    lista = [f.replace(\".json\",\"\") for f in os.listdir(labelme_root_path) if f.endswith(\".json\")]\n",
    "    return lista\n",
    "\n",
    "def GetDataset(dataset):\n",
    "    file_list = []\n",
    "    with open(os.path.join(PASCAL_PATH,r\"ImageSets\\Segmentation\\{}.txt\".format(dataset)), 'r') as filehandle:  \n",
    "        file_list = [\"{}\".format(current_file.rstrip()) for current_file in filehandle.readlines()]\n",
    "    return file_list"
   ]
  },
  {
   "cell_type": "code",
   "execution_count": 19,
   "metadata": {},
   "outputs": [],
   "source": [
    "import json\n",
    "\n",
    "def CountShapes(file):\n",
    "    _json_path = os.path.join(labelme_root_path,file+'.json')\n",
    "    with open(_json_path, 'r') as f:\n",
    "        read_data = f.read()\n",
    "    _data = json.loads(read_data)\n",
    "    count=0\n",
    "    for _shape in _data['shapes']:\n",
    "        count=count+1\n",
    "    return count"
   ]
  },
  {
   "cell_type": "code",
   "execution_count": 21,
   "metadata": {},
   "outputs": [
    {
     "name": "stdout",
     "output_type": "stream",
     "text": [
      "{'train': 300, 'val': 100, 'test': 101}\n",
      "{'train': 4034, 'val': 1513, 'test': 1459}\n"
     ]
    }
   ],
   "source": [
    "file_counts={\"train\":0,\"val\":0,\"test\":0}\n",
    "area_counts={\"train\":0,\"val\":0,\"test\":0}\n",
    "train=GetDataset(\"train\")\n",
    "val=GetDataset(\"trainval\")\n",
    "test=GetDataset(\"val\")\n",
    "lista=GetLista()\n",
    "for f in lista:\n",
    "    count = CountShapes(f)\n",
    "    if f in train:\n",
    "        file_counts[\"train\"]=file_counts[\"train\"]+1\n",
    "        area_counts[\"train\"]=area_counts[\"train\"]+count\n",
    "    if f in val:\n",
    "        file_counts[\"val\"]=file_counts[\"val\"]+1\n",
    "        area_counts[\"val\"]=area_counts[\"val\"]+count\n",
    "    if f in test:\n",
    "        file_counts[\"test\"]=file_counts[\"test\"]+1\n",
    "        area_counts[\"test\"]=area_counts[\"test\"]+count\n",
    "\n",
    "print(file_counts)\n",
    "print(area_counts)"
   ]
  }
 ],
 "metadata": {
  "kernelspec": {
   "display_name": "Python 3",
   "language": "python",
   "name": "python3"
  },
  "language_info": {
   "codemirror_mode": {
    "name": "ipython",
    "version": 3
   },
   "file_extension": ".py",
   "mimetype": "text/x-python",
   "name": "python",
   "nbconvert_exporter": "python",
   "pygments_lexer": "ipython3",
   "version": "3.6.4"
  }
 },
 "nbformat": 4,
 "nbformat_minor": 2
}
