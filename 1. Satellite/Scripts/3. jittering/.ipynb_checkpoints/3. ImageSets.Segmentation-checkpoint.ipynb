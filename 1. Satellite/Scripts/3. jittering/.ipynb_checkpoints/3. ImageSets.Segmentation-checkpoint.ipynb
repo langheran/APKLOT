{
 "cells": [
  {
   "cell_type": "code",
   "execution_count": 4,
   "metadata": {},
   "outputs": [],
   "source": [
    "import os\n",
    "import re\n",
    "\n",
    "database_path=r'C:\\Users\\nhurst\\Desktop\\dataset'\n",
    "\n",
    "root_path0 = os.path.join(database_path,r'PASCAL_format\\ImageSets')\n",
    "root_path = os.path.join(database_path,r'PASCAL_format\\ImageSets\\Segmentation')\n",
    "JPEGImages_path = os.path.join(database_path,r'PASCAL_format\\JPEGImages')\n",
    "\n",
    "#root_path0 = r'C:\\Users\\langh\\Dropbox\\MCC-I Masters\\Thesis\\A17\\1. Training 400\\scripts\\jittering\\test\\ImageSets'\n",
    "#root_path = r'C:\\Users\\langh\\Dropbox\\MCC-I Masters\\Thesis\\A17\\1. Training 400\\scripts\\jittering\\test\\ImageSets\\Segmentation'\n",
    "#JPEGImages_path = r'C:\\Users\\langh\\Dropbox\\MCC-I Masters\\Thesis\\A17\\1. Training 400\\scripts\\jittering\\test\\JPEGImages'\n",
    "\n",
    "def GetLista(path, filter_list=None):\n",
    "    global image_root_path\n",
    "    image_root_path = path\n",
    "    if(filter_list is None):\n",
    "        lista = [f.replace(\".json\",\"\") for f in os.listdir(image_root_path) if f.endswith(\".json\")]\n",
    "    else:\n",
    "        lista = [f.replace(\".jpg\",\"\") for f in os.listdir(image_root_path) if f.endswith(\".jpg\") and re.sub(r'(?is).*\\-', '', f.replace(\".jpg\",\"\")) in filter_list]\n",
    "    return lista"
   ]
  },
  {
   "cell_type": "code",
   "execution_count": 2,
   "metadata": {},
   "outputs": [],
   "source": [
    "import  os\n",
    "\n",
    "if not os.path.exists(root_path0):\n",
    "    os.makedirs(root_path0)\n",
    "if not os.path.exists(root_path):\n",
    "    os.makedirs(root_path)"
   ]
  },
  {
   "cell_type": "code",
   "execution_count": 5,
   "metadata": {},
   "outputs": [
    {
     "data": {
      "text/plain": [
       "'C:\\\\Users\\\\nhurst\\\\Desktop\\\\dataset\\\\PASCAL_format\\\\ImageSets\\\\Segmentation\\\\val_old.txt'"
      ]
     },
     "execution_count": 5,
     "metadata": {},
     "output_type": "execute_result"
    }
   ],
   "source": [
    "import shutil\n",
    "\n",
    "shutil.move(os.path.join(root_path,\"train.txt\"),os.path.join(root_path,\"train_old.txt\"))\n",
    "shutil.move(os.path.join(root_path,\"trainval.txt\"),os.path.join(root_path,\"trainval_old.txt\"))\n",
    "shutil.move(os.path.join(root_path,\"val.txt\"),os.path.join(root_path,\"val_old.txt\"))"
   ]
  },
  {
   "cell_type": "code",
   "execution_count": 6,
   "metadata": {},
   "outputs": [
    {
     "name": "stdout",
     "output_type": "stream",
     "text": [
      "30300\n",
      "100\n",
      "100\n"
     ]
    }
   ],
   "source": [
    "import numpy as np\n",
    "\n",
    "#lista=GetLista(\"../../database/training\")\n",
    "#np.random.seed(1)\n",
    "#np.random.shuffle(lista)\n",
    "#batch_size = int(np.ceil(len(lista)/4))\n",
    "#train_list = lista[:batch_size*3] # 1462 1 0:22\n",
    "#trainval_list = lista[batch_size*3:batch_size*4] # 2913 2 23:\n",
    "\n",
    "with open(os.path.join(root_path,\"train_old.txt\")) as f:\n",
    "    train_list = f.read().splitlines()\n",
    "    \n",
    "with open(os.path.join(root_path,\"trainval_old.txt\")) as f:\n",
    "    trainval_list = f.read().splitlines()\n",
    "\n",
    "with open(os.path.join(root_path,\"val_old.txt\")) as f:\n",
    "    val_list = f.read().splitlines()\n",
    "\n",
    "train_list = GetLista(JPEGImages_path,train_list)\n",
    "trainval_list = GetLista(JPEGImages_path,trainval_list)\n",
    "val_list = GetLista(JPEGImages_path,val_list)\n",
    "\n",
    "print(len(train_list))\n",
    "print(len(trainval_list))\n",
    "print(len(val_list))\n",
    "\n",
    "import os\n",
    "def GenerateFile(filename, lista):\n",
    "    file_path = os.path.join(root_path, filename)\n",
    "    if(os.path.isfile(file_path)):\n",
    "        os.remove(file_path)\n",
    "    with open(file_path, 'w') as f:\n",
    "        f.write(\"\\n\".join(lista))\n",
    "    print(\"file written:\", file_path)\n",
    "\n",
    "GenerateFile(\"train.txt\", train_list)\n",
    "GenerateFile(\"trainval.txt\", trainval_list)\n",
    "GenerateFile(\"val.txt\", val_list)"
   ]
  }
 ],
 "metadata": {
  "kernelspec": {
   "display_name": "Python 3",
   "language": "python",
   "name": "python3"
  },
  "language_info": {
   "codemirror_mode": {
    "name": "ipython",
    "version": 3
   },
   "file_extension": ".py",
   "mimetype": "text/x-python",
   "name": "python",
   "nbconvert_exporter": "python",
   "pygments_lexer": "ipython3",
   "version": "3.6.4"
  }
 },
 "nbformat": 4,
 "nbformat_minor": 2
}
