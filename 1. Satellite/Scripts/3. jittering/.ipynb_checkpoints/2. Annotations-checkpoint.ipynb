{
 "cells": [
  {
   "cell_type": "code",
   "execution_count": 1,
   "metadata": {},
   "outputs": [
    {
     "name": "stdout",
     "output_type": "stream",
     "text": [
      "['0-101881731', '0-104357817', '0-116016718', '0-119422707', '0-126381586']\n"
     ]
    }
   ],
   "source": [
    "import os\n",
    "\n",
    "database_path=r'C:\\Users\\nhurst\\Desktop\\dataset'\n",
    "\n",
    "image_root_path = os.path.join(database_path,r\"PASCAL_format\\SegmentationClass\")\n",
    "root_path = os.path.join(database_path,r'PASCAL_format\\Annotations')\n",
    "\n",
    "#image_root_path = r\"C:\\Users\\langh\\Dropbox\\MCC-I Masters\\Thesis\\A17\\1. Training 400\\scripts\\jittering\\test\\SegmentationClass\"\n",
    "#root_path = r'C:\\Users\\langh\\Dropbox\\MCC-I Masters\\Thesis\\A17\\1. Training 400\\scripts\\jittering\\test\\Annotations'\n",
    "\n",
    "lista = [f.replace(\".png\",\"\") for f in os.listdir(image_root_path) if f.endswith(\".png\")]\n",
    "# and f.find(\"-\")!=-1\n",
    "\n",
    "print(lista[:5])"
   ]
  },
  {
   "cell_type": "code",
   "execution_count": 2,
   "metadata": {},
   "outputs": [],
   "source": [
    "import cv2\n",
    "\n",
    "def ReadBWImage(file):\n",
    "    src = cv2.imread(os.path.join(image_root_path,\"{}.png\".format(file)), 1)\n",
    "    return src\n",
    "\n",
    "def ExtractBoundingBox(file):\n",
    "    if(os.path.exists(file)):\n",
    "        file=os.path.splitext(os.path.basename(file))[0]\n",
    "    #print(file)\n",
    "    src = ReadBWImage(file)\n",
    "    src_gray = cv2.cvtColor(src, cv2.COLOR_BGR2GRAY)\n",
    "    ret, threshold_output = cv2.threshold(src_gray, 100, 255, cv2.THRESH_BINARY)\n",
    "    im2, contours, hierarchy = cv2.findContours(threshold_output, cv2.RETR_TREE, cv2.CHAIN_APPROX_SIMPLE)\n",
    "    src_gray = cv2.cvtColor(src_gray, cv2.COLOR_GRAY2BGR)\n",
    "    boundRect=[]\n",
    "    for i, contour in enumerate(contours):\n",
    "        boundRect.append([coord for coord in cv2.boundingRect(contour)])\n",
    "        # print(boundRect[i])\n",
    "    return boundRect, src_gray"
   ]
  },
  {
   "cell_type": "code",
   "execution_count": 3,
   "metadata": {},
   "outputs": [
    {
     "name": "stdout",
     "output_type": "stream",
     "text": [
      "0-101881731\n"
     ]
    },
    {
     "data": {
      "text/plain": [
       "<matplotlib.figure.Figure at 0x28a7ea4c630>"
      ]
     },
     "metadata": {},
     "output_type": "display_data"
    },
    {
     "name": "stdout",
     "output_type": "stream",
     "text": [
      "0-104357817\n"
     ]
    },
    {
     "data": {
      "text/plain": [
       "<matplotlib.figure.Figure at 0x28a7a43fb70>"
      ]
     },
     "metadata": {},
     "output_type": "display_data"
    },
    {
     "name": "stdout",
     "output_type": "stream",
     "text": [
      "0-116016718\n"
     ]
    },
    {
     "data": {
      "text/plain": [
       "<matplotlib.figure.Figure at 0x28a7eb25978>"
      ]
     },
     "metadata": {},
     "output_type": "display_data"
    },
    {
     "name": "stdout",
     "output_type": "stream",
     "text": [
      "0-119422707\n"
     ]
    },
    {
     "data": {
      "text/plain": [
       "<matplotlib.figure.Figure at 0x28a7efd8208>"
      ]
     },
     "metadata": {},
     "output_type": "display_data"
    },
    {
     "name": "stdout",
     "output_type": "stream",
     "text": [
      "0-126381586\n"
     ]
    },
    {
     "data": {
      "text/plain": [
       "<matplotlib.figure.Figure at 0x28a7eeee7f0>"
      ]
     },
     "metadata": {},
     "output_type": "display_data"
    }
   ],
   "source": [
    "import cv2\n",
    "from matplotlib import pyplot as plt\n",
    "\n",
    "for file in lista[:5]:\n",
    "    boundRects,src_gray = ExtractBoundingBox(file)\n",
    "    for boundRect in boundRects:\n",
    "        src_gray=cv2.rectangle(src_gray, (boundRect[0], boundRect[1]), (boundRect[0]+boundRect[2], boundRect[1]+boundRect[3]), (255,0,0), 2)\n",
    "\n",
    "    width = 12\n",
    "    height = 12\n",
    "    plt.figure(figsize=(width, height))\n",
    "    plt.axis(\"off\")\n",
    "    plt.imshow(src_gray)\n",
    "    plt.show()"
   ]
  },
  {
   "cell_type": "code",
   "execution_count": 4,
   "metadata": {},
   "outputs": [],
   "source": [
    "import os\n",
    "from lxml import etree\n",
    "\n",
    "def GenerateFile(filename, xml):\n",
    "    s = etree.tostring(root, pretty_print=True).decode(\"utf-8\") \n",
    "    file_path = os.path.join(root_path, filename)\n",
    "    if(os.path.isfile(file_path)):\n",
    "        # os.remove(file_path)\n",
    "        return\n",
    "    with open(file_path, 'w') as f:\n",
    "        f.write(s)\n",
    "    #print(\"file written:\", file_path)"
   ]
  },
  {
   "cell_type": "code",
   "execution_count": 1,
   "metadata": {},
   "outputs": [
    {
     "ename": "NameError",
     "evalue": "name 'lista' is not defined",
     "output_type": "error",
     "traceback": [
      "\u001b[1;31m---------------------------------------------------------------------------\u001b[0m",
      "\u001b[1;31mNameError\u001b[0m                                 Traceback (most recent call last)",
      "\u001b[1;32m<ipython-input-1-ab8f2c125077>\u001b[0m in \u001b[0;36m<module>\u001b[1;34m()\u001b[0m\n\u001b[0;32m     89\u001b[0m \u001b[1;31m#root = GenerateXML(f)\u001b[0m\u001b[1;33m\u001b[0m\u001b[1;33m\u001b[0m\u001b[0m\n\u001b[0;32m     90\u001b[0m \u001b[1;31m#GenerateFile(\"24833427.xml\", root)\u001b[0m\u001b[1;33m\u001b[0m\u001b[1;33m\u001b[0m\u001b[0m\n\u001b[1;32m---> 91\u001b[1;33m \u001b[1;32mfor\u001b[0m \u001b[0mf\u001b[0m \u001b[1;32min\u001b[0m \u001b[0mlista\u001b[0m\u001b[1;33m:\u001b[0m\u001b[1;33m\u001b[0m\u001b[0m\n\u001b[0m\u001b[0;32m     92\u001b[0m     \u001b[0mroot\u001b[0m \u001b[1;33m=\u001b[0m \u001b[0mGenerateXML\u001b[0m\u001b[1;33m(\u001b[0m\u001b[0mf\u001b[0m\u001b[1;33m)\u001b[0m\u001b[1;33m\u001b[0m\u001b[0m\n\u001b[0;32m     93\u001b[0m     \u001b[1;32mif\u001b[0m \u001b[0mroot\u001b[0m \u001b[1;32mis\u001b[0m \u001b[1;32mnot\u001b[0m \u001b[1;32mNone\u001b[0m\u001b[1;33m:\u001b[0m\u001b[1;33m\u001b[0m\u001b[0m\n",
      "\u001b[1;31mNameError\u001b[0m: name 'lista' is not defined"
     ]
    }
   ],
   "source": [
    "from lxml import etree\n",
    "import json\n",
    "import numpy as np\n",
    "from PIL import Image\n",
    "\n",
    "def GenerateXML(file):    \n",
    "    _mask_path = os.path.join(image_root_path,file+'.png')\n",
    "    \n",
    "    root = etree.Element('annotation')\n",
    "    folder = etree.Element('folder')\n",
    "    folder.text = 'VOC2012'\n",
    "    root.append(folder)\n",
    "    \n",
    "    filename = etree.Element('filename')\n",
    "    filename.text = file + '.jpg'\n",
    "    root.append(filename)\n",
    "    \n",
    "    source = etree.Element('source')\n",
    "    database = etree.Element('database')\n",
    "    database.text = 'The VOC2007 Database'\n",
    "    source.append(database)\n",
    "    annotation = etree.Element('annotation')\n",
    "    annotation.text = 'PASCAL VOC2007'\n",
    "    source.append(annotation)\n",
    "    root.append(source)\n",
    "    \n",
    "    new_image_root_path=os.path.join(image_root_path, '../JPEGImages')\n",
    "    _image_path = os.path.join(new_image_root_path,file+'.jpg')\n",
    "    if(not os.path.exists(_image_path)):\n",
    "        return None\n",
    "    _im = Image.open(_image_path)\n",
    "    _width, _height = _im.size\n",
    "    _width, _height = str(_width), str(_height)\n",
    "    size = etree.Element('size')\n",
    "    width = etree.Element('width')\n",
    "    width.text = _width\n",
    "    size.append(width)\n",
    "    height = etree.Element('height')\n",
    "    height.text = _height\n",
    "    size.append(height)\n",
    "    depth = etree.Element('depth')\n",
    "    depth.text = '3' # TODO\n",
    "    size.append(depth)\n",
    "    root.append(size)\n",
    "    \n",
    "    segmented = etree.Element('segmented')\n",
    "    segmented.text = '1'\n",
    "    root.append(segmented)\n",
    "    \n",
    "    boundRects,src_gray = ExtractBoundingBox(_mask_path)\n",
    "    \n",
    "    for _shape in boundRects:\n",
    "        objecta = etree.Element('object')\n",
    "        name = etree.Element('name')\n",
    "        name.text = 'parkingspot'\n",
    "        objecta.append(name)\n",
    "        pose = etree.Element('pose')\n",
    "        pose.text = 'Frontal'\n",
    "        objecta.append(pose)\n",
    "        truncated = etree.Element('truncated')\n",
    "        truncated.text = '0'\n",
    "        objecta.append(truncated)\n",
    "        difficult = etree.Element('difficult')\n",
    "        difficult.text = '0'\n",
    "        objecta.append(difficult)\n",
    "\n",
    "        _xmin, _ymin, _xmax, _ymax = _shape[0], _shape[1], _shape[0]+_shape[2], _shape[1]+_shape[3]\n",
    "        _xmin, _ymin, _xmax, _ymax = str(_xmin), str(_ymin), str(_xmax), str(_ymax)\n",
    "        \n",
    "        bndbox = etree.Element('bndbox')\n",
    "        xmin = etree.Element('xmin')\n",
    "        xmin.text = _xmin\n",
    "        bndbox.append(xmin)\n",
    "        ymin = etree.Element('ymin')\n",
    "        ymin.text = _ymin\n",
    "        bndbox.append(ymin)\n",
    "        xmax = etree.Element('xmax')\n",
    "        xmax.text = _xmax\n",
    "        bndbox.append(xmax)\n",
    "        ymax = etree.Element('ymax')\n",
    "        ymax.text = _ymax\n",
    "        bndbox.append(ymax)\n",
    "        objecta.append(bndbox)\n",
    "\n",
    "        root.append(objecta)\n",
    "    \n",
    "    return root\n",
    "\n",
    "#root = GenerateXML(f)\n",
    "#GenerateFile(\"24833427.xml\", root)\n",
    "for i, f in enumerate(lista):\n",
    "    if(i%1000==0):\n",
    "        print(f)\n",
    "    root = GenerateXML(f)\n",
    "    if root is not None:\n",
    "        GenerateFile(f + \".xml\", root)\n",
    "\n",
    "print(\"Finished!\")"
   ]
  }
 ],
 "metadata": {
  "kernelspec": {
   "display_name": "Python 3",
   "language": "python",
   "name": "python3"
  },
  "language_info": {
   "codemirror_mode": {
    "name": "ipython",
    "version": 3
   },
   "file_extension": ".py",
   "mimetype": "text/x-python",
   "name": "python",
   "nbconvert_exporter": "python",
   "pygments_lexer": "ipython3",
   "version": "3.6.4"
  }
 },
 "nbformat": 4,
 "nbformat_minor": 2
}
