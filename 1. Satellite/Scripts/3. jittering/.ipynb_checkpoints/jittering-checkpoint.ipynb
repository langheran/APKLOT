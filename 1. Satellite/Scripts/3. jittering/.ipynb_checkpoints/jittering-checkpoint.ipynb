{
 "cells": [
  {
   "cell_type": "code",
   "execution_count": 3,
   "metadata": {},
   "outputs": [],
   "source": [
    "from imgaug import augmenters as iaa"
   ]
  },
  {
   "cell_type": "code",
   "execution_count": 4,
   "metadata": {},
   "outputs": [],
   "source": [
    "from scipy import ndimage, misc\n",
    "#from matplotlib import pyplot\n",
    "\n",
    "def read_jpg(image_path):\n",
    "    #print(image_path)\n",
    "    img = ndimage.imread(image_path, mode=\"RGB\")\n",
    "    return img"
   ]
  },
  {
   "cell_type": "code",
   "execution_count": 5,
   "metadata": {},
   "outputs": [
    {
     "name": "stdout",
     "output_type": "stream",
     "text": [
      "1000\n"
     ]
    }
   ],
   "source": [
    "import imgaug as ia\n",
    "import numpy as np\n",
    "\n",
    "np.random.seed(1)\n",
    "ia.seed(1)\n",
    "\n",
    "seq_blur = iaa.Sequential([\n",
    "    iaa.GaussianBlur(sigma=(0, 3.0)) # blur images with a sigma of 0 to 3.0\n",
    "])\n",
    "seq_blur=seq_blur.to_deterministic()\n",
    "seqs=[]\n",
    "for seqn in range(100):\n",
    "    np.random.seed(seqn)\n",
    "    ia.seed(seqn)\n",
    "    seq = iaa.Sequential([\n",
    "        iaa.Crop(px=(0, 16)), # crop images from each side by 0 to 16px (randomly chosen)\n",
    "        iaa.Fliplr(0.5), # horizontally flip 50% of the images\n",
    "        iaa.Flipud(0.5),\n",
    "        iaa.Affine(rotate=(-45, 45))\n",
    "    ])\n",
    "    seq=seq.to_deterministic()\n",
    "    seqs.append(seq)\n",
    "\n",
    "print(len(seqs))"
   ]
  },
  {
   "cell_type": "code",
   "execution_count": null,
   "metadata": {},
   "outputs": [],
   "source": [
    "import os\n",
    "import PIL.Image\n",
    "try:\n",
    "    from cStringIO import StringIO as BytesIO\n",
    "except ImportError:\n",
    "    from io import BytesIO\n",
    "    \n",
    "IMAGE_DIR=r\"C:\\Users\\Paperspace\\Documents\\Datasets\\PASCAL_format\\JPEGImages\"\n",
    "\n",
    "OUTPUT_IMAGE_DIR=r\"C:\\Users\\Paperspace\\Documents\\Datasets\\PASCAL_format\\JPEGImages\"\n",
    "\n",
    "MASK_DIR=r\"C:\\Users\\Paperspace\\Documents\\Datasets\\PASCAL_format\\SegmentationClass\"\n",
    "\n",
    "OUTPUT_MASK_DIR=r\"C:\\Users\\Paperspace\\Documents\\Datasets\\PASCAL_format\\SegmentationClass\"\n",
    "\n",
    "image_paths=[os.path.join(IMAGE_DIR,f) for f in os.listdir(IMAGE_DIR) if f.endswith(\".jpg\")]\n",
    "images = [read_jpg(f) for f in image_paths]\n",
    "mask_paths=[os.path.join(MASK_DIR,f) for f in os.listdir(MASK_DIR) if f.endswith(\".png\")]\n",
    "images_masks = [read_jpg(f) for f in mask_paths]\n",
    "\n",
    "for seqn, seq in enumerate(seqs):\n",
    "    images_aug = seq_blur.augment_images(seq.augment_images(images))\n",
    "    images_aug_masks = seq.augment_images(images_masks)\n",
    "    i=0\n",
    "    print(len(image_paths), len(images_aug), len(images_aug_masks))\n",
    "    zips=zip(image_paths, images_aug, images_aug_masks)\n",
    "    for image_path, image, image_mask in zips:\n",
    "        if(i%100==0):\n",
    "            print(\"{} - {}\".format(i,image_path))\n",
    "        quality = 75\n",
    "        filename=os.path.splitext(os.path.basename(image_path))[0]\n",
    "        im = PIL.Image.fromarray(image)\n",
    "        im_mask = PIL.Image.fromarray(image_mask)\n",
    "        im.save(os.path.join(OUTPUT_IMAGE_DIR,\"{}-{}.jpg\".format(seqn,filename)), format=\"JPEG\", quality=quality)\n",
    "        im_mask.save(os.path.join(OUTPUT_MASK_DIR,\"{}-{}.png\".format(seqn,filename)), format=\"PNG\", quality=quality)\n",
    "        i=i+1\n",
    "\n",
    "print(\"Finished!\")"
   ]
  }
 ],
 "metadata": {
  "kernelspec": {
   "display_name": "Python 3",
   "language": "python",
   "name": "python3"
  },
  "language_info": {
   "codemirror_mode": {
    "name": "ipython",
    "version": 3
   },
   "file_extension": ".py",
   "mimetype": "text/x-python",
   "name": "python",
   "nbconvert_exporter": "python",
   "pygments_lexer": "ipython3",
   "version": "3.6.4"
  }
 },
 "nbformat": 4,
 "nbformat_minor": 2
}
