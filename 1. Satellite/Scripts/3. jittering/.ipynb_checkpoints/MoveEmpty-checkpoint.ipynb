{
 "cells": [
  {
   "cell_type": "code",
   "execution_count": 1,
   "metadata": {},
   "outputs": [
    {
     "name": "stdout",
     "output_type": "stream",
     "text": [
      "['0-101881731', '0-126381586', '0-126381588', '0-126381594', '0-127649594']\n"
     ]
    }
   ],
   "source": [
    "import os\n",
    "\n",
    "source = r'C:\\Users\\Paperspace\\Documents\\Datasets\\PASCAL_format'\n",
    "destiny = r'C:\\Users\\Paperspace\\Documents\\Datasets\\PASCAL_format\\Empty'\n",
    "\n",
    "#source = r'C:\\Users\\langh\\Dropbox\\MCC-I Masters\\Thesis\\A6\\dataset\\PASCAL_format'\n",
    "#destiny = r'C:\\Users\\langh\\Dropbox\\MCC-I Masters\\Thesis\\A6\\dataset\\PASCAL_format\\Empty'\n",
    "\n",
    "lista = [f.replace(\".xml\",\"\") for f in os.listdir(os.path.join(source, 'Annotations')) if f.endswith(\".xml\")]\n",
    "\n",
    "print(lista[:5])"
   ]
  },
  {
   "cell_type": "code",
   "execution_count": 1,
   "metadata": {},
   "outputs": [
    {
     "ename": "NameError",
     "evalue": "name 'lista' is not defined",
     "output_type": "error",
     "traceback": [
      "\u001b[1;31m---------------------------------------------------------------------------\u001b[0m",
      "\u001b[1;31mNameError\u001b[0m                                 Traceback (most recent call last)",
      "\u001b[1;32m<ipython-input-1-82397c689df8>\u001b[0m in \u001b[0;36m<module>\u001b[1;34m()\u001b[0m\n\u001b[0;32m     30\u001b[0m \u001b[1;33m\u001b[0m\u001b[0m\n\u001b[0;32m     31\u001b[0m \u001b[0mi\u001b[0m \u001b[1;33m=\u001b[0m \u001b[1;36m0\u001b[0m\u001b[1;33m\u001b[0m\u001b[0m\n\u001b[1;32m---> 32\u001b[1;33m \u001b[1;32mfor\u001b[0m \u001b[0mf\u001b[0m \u001b[1;32min\u001b[0m \u001b[0mlista\u001b[0m\u001b[1;33m:\u001b[0m\u001b[1;33m\u001b[0m\u001b[0m\n\u001b[0m\u001b[0;32m     33\u001b[0m     \u001b[0mfilename\u001b[0m\u001b[1;33m=\u001b[0m\u001b[0mf\u001b[0m \u001b[1;33m+\u001b[0m \u001b[1;34m\".xml\"\u001b[0m\u001b[1;33m\u001b[0m\u001b[0m\n\u001b[0;32m     34\u001b[0m     \u001b[1;32mif\u001b[0m \u001b[0mEmpty\u001b[0m\u001b[1;33m(\u001b[0m\u001b[0mfilename\u001b[0m\u001b[1;33m)\u001b[0m\u001b[1;33m:\u001b[0m\u001b[1;33m\u001b[0m\u001b[0m\n",
      "\u001b[1;31mNameError\u001b[0m: name 'lista' is not defined"
     ]
    }
   ],
   "source": [
    "import xml.etree.ElementTree\n",
    "from lxml import etree\n",
    "import json\n",
    "import numpy as np\n",
    "from PIL import Image\n",
    "\n",
    "def Empty(file):  \n",
    "    filePath=os.path.join(os.path.join(source, 'Annotations'),file)\n",
    "    tree = etree.parse(filePath)\n",
    "    object_count=0\n",
    "    for el in tree.iter('object'):\n",
    "        object_count=object_count+1\n",
    "        break\n",
    "    return object_count==0\n",
    "\n",
    "def MoveFiles(file):\n",
    "    if(not os.path.isdir(destiny)):\n",
    "        os.makedirs(destiny)\n",
    "    \n",
    "    folders=['Annotations', 'JPEGImages', 'SegmentationClass', 'SegmentationObject']\n",
    "    \n",
    "    extensions={'Annotations':'xml', 'JPEGImages':'jpg', 'SegmentationClass':'png', 'SegmentationObject':'png'}\n",
    "    \n",
    "    for folder in folders:\n",
    "        source_folder=os.path.join(source, folder)\n",
    "        destiny_folder=os.path.join(destiny, folder)\n",
    "        if(not os.path.isdir(destiny_folder)):\n",
    "            os.makedirs(destiny_folder)\n",
    "        os.rename(os.path.join(source_folder,file+\".\"+extensions[folder]), os.path.join(destiny_folder,file+\".\"+extensions[folder]))\n",
    "\n",
    "i = 0\n",
    "for f in lista:\n",
    "    filename=f + \".xml\"\n",
    "    if Empty(filename):\n",
    "        MoveFiles(f)\n",
    "    if(i%100==0):\n",
    "        print(\"{} - {}\".format(i,filename))\n",
    "    i=i+1"
   ]
  },
  {
   "cell_type": "code",
   "execution_count": 2,
   "metadata": {},
   "outputs": [
    {
     "ename": "FileNotFoundError",
     "evalue": "[WinError 3] El sistema no puede encontrar la ruta especificada: 'C:\\\\Users\\\\Paperspace\\\\Documents\\\\Datasets\\\\PASCAL_format\\\\SegmentationClass'",
     "output_type": "error",
     "traceback": [
      "\u001b[1;31m---------------------------------------------------------------------------\u001b[0m",
      "\u001b[1;31mFileNotFoundError\u001b[0m                         Traceback (most recent call last)",
      "\u001b[1;32m<ipython-input-2-0fca3768b225>\u001b[0m in \u001b[0;36m<module>\u001b[1;34m()\u001b[0m\n\u001b[0;32m     15\u001b[0m \u001b[1;32mfor\u001b[0m \u001b[0mfolder\u001b[0m \u001b[1;32min\u001b[0m \u001b[0mfolders\u001b[0m\u001b[1;33m:\u001b[0m\u001b[1;33m\u001b[0m\u001b[0m\n\u001b[0;32m     16\u001b[0m     \u001b[0mfolder\u001b[0m\u001b[1;33m=\u001b[0m\u001b[0mos\u001b[0m\u001b[1;33m.\u001b[0m\u001b[0mpath\u001b[0m\u001b[1;33m.\u001b[0m\u001b[0mjoin\u001b[0m\u001b[1;33m(\u001b[0m\u001b[0msource\u001b[0m\u001b[1;33m,\u001b[0m \u001b[0mfolder\u001b[0m\u001b[1;33m)\u001b[0m\u001b[1;33m\u001b[0m\u001b[0m\n\u001b[1;32m---> 17\u001b[1;33m     \u001b[0mimage_paths\u001b[0m\u001b[1;33m=\u001b[0m\u001b[1;33m[\u001b[0m\u001b[0mos\u001b[0m\u001b[1;33m.\u001b[0m\u001b[0mpath\u001b[0m\u001b[1;33m.\u001b[0m\u001b[0mjoin\u001b[0m\u001b[1;33m(\u001b[0m\u001b[0mfolder\u001b[0m\u001b[1;33m,\u001b[0m\u001b[0mf\u001b[0m\u001b[1;33m)\u001b[0m \u001b[1;32mfor\u001b[0m \u001b[0mf\u001b[0m \u001b[1;32min\u001b[0m \u001b[0mos\u001b[0m\u001b[1;33m.\u001b[0m\u001b[0mlistdir\u001b[0m\u001b[1;33m(\u001b[0m\u001b[0mfolder\u001b[0m\u001b[1;33m)\u001b[0m \u001b[1;32mif\u001b[0m \u001b[0mf\u001b[0m\u001b[1;33m.\u001b[0m\u001b[0mendswith\u001b[0m\u001b[1;33m(\u001b[0m\u001b[1;34m\".png\"\u001b[0m\u001b[1;33m)\u001b[0m\u001b[1;33m]\u001b[0m\u001b[1;33m\u001b[0m\u001b[0m\n\u001b[0m\u001b[0;32m     18\u001b[0m     \u001b[1;32mfor\u001b[0m \u001b[0mp\u001b[0m \u001b[1;32min\u001b[0m \u001b[0mimage_paths\u001b[0m\u001b[1;33m:\u001b[0m\u001b[1;33m\u001b[0m\u001b[0m\n\u001b[0;32m     19\u001b[0m         \u001b[0mThresholdImage\u001b[0m\u001b[1;33m(\u001b[0m\u001b[0mp\u001b[0m\u001b[1;33m)\u001b[0m\u001b[1;33m\u001b[0m\u001b[0m\n",
      "\u001b[1;31mFileNotFoundError\u001b[0m: [WinError 3] El sistema no puede encontrar la ruta especificada: 'C:\\\\Users\\\\Paperspace\\\\Documents\\\\Datasets\\\\PASCAL_format\\\\SegmentationClass'"
     ]
    }
   ],
   "source": [
    "import cv2\n",
    "import os\n",
    "\n",
    "#source = r'C:\\Users\\langh\\Dropbox\\MCC-I Masters\\Thesis\\A6\\dataset\\PASCAL_format\\test'\n",
    "source = r'C:\\Users\\Paperspace\\Documents\\Datasets\\PASCAL_format'\n",
    "\n",
    "folders=['SegmentationClass', 'SegmentationObject']\n",
    "\n",
    "def ThresholdImage(file):\n",
    "    img = cv2.imread(file,0)\n",
    "    ret,thresh1 = cv2.threshold(img,127,255,cv2.THRESH_BINARY)\n",
    "    cv2.imwrite(file, thresh1)\n",
    "    print(file)\n",
    "\n",
    "for folder in folders:\n",
    "    folder=os.path.join(source, folder)\n",
    "    image_paths=[os.path.join(folder,f) for f in os.listdir(folder) if f.endswith(\".png\")]\n",
    "    for p in image_paths:\n",
    "        ThresholdImage(p)\n",
    "        \n",
    "print(\"Finished!\")"
   ]
  }
 ],
 "metadata": {
  "kernelspec": {
   "display_name": "Python 3",
   "language": "python",
   "name": "python3"
  },
  "language_info": {
   "codemirror_mode": {
    "name": "ipython",
    "version": 3
   },
   "file_extension": ".py",
   "mimetype": "text/x-python",
   "name": "python",
   "nbconvert_exporter": "python",
   "pygments_lexer": "ipython3",
   "version": "3.6.4"
  }
 },
 "nbformat": 4,
 "nbformat_minor": 2
}
