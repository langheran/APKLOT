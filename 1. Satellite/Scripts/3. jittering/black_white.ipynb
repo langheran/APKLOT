{
 "cells": [
  {
   "cell_type": "code",
   "execution_count": 1,
   "metadata": {},
   "outputs": [
    {
     "data": {
      "text/plain": [
       "['1-Estado de Mexico-TEC.png',\n",
       " '2-Estado de Mexico-TEC.png',\n",
       " '3-Estado de Mexico-TEC.png',\n",
       " '4-Estado de Mexico-TEC.png',\n",
       " '5-Estado de Mexico-TEC.png',\n",
       " '6-Estado de Mexico-TEC.png',\n",
       " '7-Estado de Mexico-TEC.png',\n",
       " '8-Estado de Mexico-TEC.png',\n",
       " '9-Estado de Mexico-TEC.png']"
      ]
     },
     "execution_count": 1,
     "metadata": {},
     "output_type": "execute_result"
    }
   ],
   "source": [
    "import os\n",
    "import cv2\n",
    "\n",
    "source_path=os.getcwd()\n",
    "\n",
    "files = [f for f in os.listdir(source_path) if os.path.isfile(os.path.join(source_path,f)) and f.find('.png')!=-1]\n",
    "files"
   ]
  },
  {
   "cell_type": "code",
   "execution_count": 2,
   "metadata": {},
   "outputs": [],
   "source": [
    "from PIL import Image\n",
    "\n",
    "for file in files:\n",
    "    col = Image.open(file)\n",
    "    gray = col.convert('L')\n",
    "    bw = gray.point(lambda x: 0 if x<128 else 255, '1')\n",
    "    bw.save(file)"
   ]
  }
 ],
 "metadata": {
  "kernelspec": {
   "display_name": "Python 3",
   "language": "python",
   "name": "python3"
  },
  "language_info": {
   "codemirror_mode": {
    "name": "ipython",
    "version": 3
   },
   "file_extension": ".py",
   "mimetype": "text/x-python",
   "name": "python",
   "nbconvert_exporter": "python",
   "pygments_lexer": "ipython3",
   "version": "3.6.4"
  }
 },
 "nbformat": 4,
 "nbformat_minor": 2
}
