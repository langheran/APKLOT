{
 "cells": [
  {
   "cell_type": "code",
   "execution_count": 1,
   "metadata": {},
   "outputs": [],
   "source": [
    "import os\n",
    "\n",
    "database_path=r'C:\\Users\\langh\\Dropbox\\MCC-I Masters\\Thesis\\1. Dataset\\1. Satellite\\Dataset\\ITESM_20'\n",
    "image_root_path = os.path.join(database_path,r'training')\n",
    "new_image_root_path = os.path.join(database_path,r'PASCAL_format/JPEGImages')\n",
    "root_path = os.path.join(database_path,r'PASCAL_format/SegmentationClass')\n",
    "\n",
    "def GetLista(path):\n",
    "    global image_root_path\n",
    "    image_root_path = path\n",
    "    lista = [f.replace(\".json\",\"\") for f in os.listdir(image_root_path) if f.endswith(\".json\")]\n",
    "    return lista"
   ]
  },
  {
   "cell_type": "code",
   "execution_count": 2,
   "metadata": {},
   "outputs": [],
   "source": [
    "import  os\n",
    "if not os.path.exists(root_path):\n",
    "    os.makedirs(root_path)"
   ]
  },
  {
   "cell_type": "code",
   "execution_count": 3,
   "metadata": {},
   "outputs": [
    {
     "name": "stdout",
     "output_type": "stream",
     "text": [
      "file written: C:\\Users\\langh\\Dropbox\\MCC-I Masters\\Thesis\\1. Dataset\\1. Satellite\\Dataset\\ITESM_20\\PASCAL_format/SegmentationClass\\1-Estado de Mexico-TEC.png\n",
      "file written: C:\\Users\\langh\\Dropbox\\MCC-I Masters\\Thesis\\1. Dataset\\1. Satellite\\Dataset\\ITESM_20\\PASCAL_format/SegmentationClass\\1-Guadalajara-TEC.png\n",
      "file written: C:\\Users\\langh\\Dropbox\\MCC-I Masters\\Thesis\\1. Dataset\\1. Satellite\\Dataset\\ITESM_20\\PASCAL_format/SegmentationClass\\1-Monterrey-TEC.png\n",
      "file written: C:\\Users\\langh\\Dropbox\\MCC-I Masters\\Thesis\\1. Dataset\\1. Satellite\\Dataset\\ITESM_20\\PASCAL_format/SegmentationClass\\2-Estado de Mexico-TEC.png\n",
      "file written: C:\\Users\\langh\\Dropbox\\MCC-I Masters\\Thesis\\1. Dataset\\1. Satellite\\Dataset\\ITESM_20\\PASCAL_format/SegmentationClass\\2-Guadalajara-TEC.png\n",
      "file written: C:\\Users\\langh\\Dropbox\\MCC-I Masters\\Thesis\\1. Dataset\\1. Satellite\\Dataset\\ITESM_20\\PASCAL_format/SegmentationClass\\3-Estado de Mexico-TEC.png\n",
      "file written: C:\\Users\\langh\\Dropbox\\MCC-I Masters\\Thesis\\1. Dataset\\1. Satellite\\Dataset\\ITESM_20\\PASCAL_format/SegmentationClass\\4-Estado de Mexico-TEC.png\n",
      "file written: C:\\Users\\langh\\Dropbox\\MCC-I Masters\\Thesis\\1. Dataset\\1. Satellite\\Dataset\\ITESM_20\\PASCAL_format/SegmentationClass\\5-Estado de Mexico-TEC.png\n",
      "file written: C:\\Users\\langh\\Dropbox\\MCC-I Masters\\Thesis\\1. Dataset\\1. Satellite\\Dataset\\ITESM_20\\PASCAL_format/SegmentationClass\\6-Estado de Mexico-TEC.png\n",
      "file written: C:\\Users\\langh\\Dropbox\\MCC-I Masters\\Thesis\\1. Dataset\\1. Satellite\\Dataset\\ITESM_20\\PASCAL_format/SegmentationClass\\7-Estado de Mexico-TEC.png\n",
      "file written: C:\\Users\\langh\\Dropbox\\MCC-I Masters\\Thesis\\1. Dataset\\1. Satellite\\Dataset\\ITESM_20\\PASCAL_format/SegmentationClass\\8-Estado de Mexico-TEC.png\n",
      "file written: C:\\Users\\langh\\Dropbox\\MCC-I Masters\\Thesis\\1. Dataset\\1. Satellite\\Dataset\\ITESM_20\\PASCAL_format/SegmentationClass\\9-Estado de Mexico-TEC.png\n",
      "file written: C:\\Users\\langh\\Dropbox\\MCC-I Masters\\Thesis\\1. Dataset\\1. Satellite\\Dataset\\ITESM_20\\PASCAL_format/SegmentationClass\\Queretaro-TEC.png\n",
      "file written: C:\\Users\\langh\\Dropbox\\MCC-I Masters\\Thesis\\1. Dataset\\1. Satellite\\Dataset\\ITESM_20\\PASCAL_format/SegmentationClass\\Ejecutivo-TecMilenio.png\n"
     ]
    }
   ],
   "source": [
    "import os\n",
    "from lxml import etree\n",
    "import json\n",
    "import cv2\n",
    "import numpy as np\n",
    "\n",
    "def GenerateFile(file, image_root_path):\n",
    "    _json_path = os.path.join(image_root_path,file+'.json')\n",
    "    with open(_json_path, 'r') as f:\n",
    "        read_data = f.read()\n",
    "    _data = json.loads(read_data)\n",
    "    _shapes = [shape[\"points\"] for shape in _data[\"shapes\"] if shape[\"label\"]==\"1\"]\n",
    "    \n",
    "    filename = file + \".png\"\n",
    "    file_path = os.path.join(root_path, filename)\n",
    "    if(os.path.isfile(file_path)):\n",
    "        os.remove(file_path)\n",
    "    \n",
    "    _image_path = os.path.join(new_image_root_path,file+'.jpg')\n",
    "    _img = cv2.imread(_image_path, 1)\n",
    "    \n",
    "    _mask = np.zeros((_img.shape[0], _img.shape[1]))\n",
    "    for _shape in _shapes:\n",
    "        _shape.append(_shape[0])\n",
    "        _shape = [[int(round(pt[0], 0)), int(round(pt[1], 0))] for pt in _shape]\n",
    "        _pts=np.array(_shape)\n",
    "        _roi_pts = _pts.reshape((-1, 1, 2))\n",
    "        cv2.fillConvexPoly(_mask, _roi_pts, 1)\n",
    "        cv2.fillPoly(_mask, [_roi_pts], 1)\n",
    "        \n",
    "    _mask = _mask.astype(np.bool)  \n",
    "    out = np.zeros_like(_img)\n",
    "    out[_mask] = 255\n",
    "    cv2.imwrite(file_path, out)\n",
    "\n",
    "    print(\"file written:\", file_path)\n",
    "    \n",
    "lista=GetLista(os.path.join(database_path,r'training'))\n",
    "for f in lista:\n",
    "    GenerateFile(f, image_root_path)\n",
    "    \n",
    "lista=GetLista(os.path.join(database_path,r'testing'))\n",
    "for f in lista:\n",
    "    GenerateFile(f, image_root_path)"
   ]
  },
  {
   "cell_type": "code",
   "execution_count": 1,
   "metadata": {},
   "outputs": [],
   "source": []
  }
 ],
 "metadata": {
  "kernelspec": {
   "display_name": "Python 3",
   "language": "python",
   "name": "python3"
  },
  "language_info": {
   "codemirror_mode": {
    "name": "ipython",
    "version": 3
   },
   "file_extension": ".py",
   "mimetype": "text/x-python",
   "name": "python",
   "nbconvert_exporter": "python",
   "pygments_lexer": "ipython3",
   "version": "3.6.4"
  }
 },
 "nbformat": 4,
 "nbformat_minor": 2
}
