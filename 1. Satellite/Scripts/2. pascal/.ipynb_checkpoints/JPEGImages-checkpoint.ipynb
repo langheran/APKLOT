{
 "cells": [
  {
   "cell_type": "code",
   "execution_count": 3,
   "metadata": {},
   "outputs": [],
   "source": [
    "import os\n",
    "\n",
    "root_path = '../../database/PASCAL_format/JPEGImages'\n",
    "def GetLista(path):\n",
    "    global image_root_path\n",
    "    image_root_path = path\n",
    "    lista = [f.replace(\".json\",\"\") for f in os.listdir(image_root_path) if f.endswith(\".json\")]\n",
    "    return lista"
   ]
  },
  {
   "cell_type": "code",
   "execution_count": null,
   "metadata": {},
   "outputs": [],
   "source": [
    "import  os\n",
    "if not os.path.exists(root_path):\n",
    "    os.makedirs(root_path)"
   ]
  },
  {
   "cell_type": "code",
   "execution_count": 5,
   "metadata": {},
   "outputs": [],
   "source": [
    "from PIL import Image\n",
    "\n",
    "def SaveJPEG(lista):\n",
    "    for file in lista:\n",
    "        _png_path = os.path.join(image_root_path,file+'.png')\n",
    "        _im = Image.open(_png_path)\n",
    "        _rgb_im = _im.convert('RGB')\n",
    "        _jpg_path = os.path.join(root_path,file+'.jpg')\n",
    "        if(os.path.isfile(_jpg_path)):\n",
    "            os.remove(_jpg_path)\n",
    "        _rgb_im.save(_jpg_path)\n",
    "        \n",
    "lista=GetLista(\"../../database/training\")\n",
    "SaveJPEG(lista)\n",
    "lista=GetLista(\"../../database/testing\")\n",
    "SaveJPEG(lista)"
   ]
  }
 ],
 "metadata": {
  "kernelspec": {
   "display_name": "Python 3",
   "language": "python",
   "name": "python3"
  },
  "language_info": {
   "codemirror_mode": {
    "name": "ipython",
    "version": 3
   },
   "file_extension": ".py",
   "mimetype": "text/x-python",
   "name": "python",
   "nbconvert_exporter": "python",
   "pygments_lexer": "ipython3",
   "version": "3.6.4"
  }
 },
 "nbformat": 4,
 "nbformat_minor": 2
}
