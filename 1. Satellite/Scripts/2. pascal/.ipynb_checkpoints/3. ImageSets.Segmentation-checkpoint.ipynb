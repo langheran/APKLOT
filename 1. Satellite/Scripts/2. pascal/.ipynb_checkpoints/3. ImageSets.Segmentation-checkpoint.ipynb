{
 "cells": [
  {
   "cell_type": "code",
   "execution_count": 16,
   "metadata": {},
   "outputs": [],
   "source": [
    "import os\n",
    "\n",
    "database_path=r'C:\\Users\\langh\\Dropbox\\MCC-I Masters\\Thesis\\1. Dataset\\1. Satellite\\Dataset\\ITESM_20'\n",
    "\n",
    "image_root_path = r\"\"\n",
    "root_path0 = os.path.join(database_path,r'PASCAL_format/ImageSets')\n",
    "root_path = os.path.join(database_path,r'PASCAL_format/ImageSets/Segmentation')\n",
    "\n",
    "def GetLista(path):\n",
    "    global image_root_path\n",
    "    image_root_path = path\n",
    "    lista = [f.replace(\".json\",\"\") for f in os.listdir(image_root_path) if f.endswith(\".json\")]\n",
    "    return lista"
   ]
  },
  {
   "cell_type": "code",
   "execution_count": 17,
   "metadata": {},
   "outputs": [],
   "source": [
    "import  os\n",
    "\n",
    "if not os.path.exists(root_path0):\n",
    "    os.makedirs(root_path0)\n",
    "if not os.path.exists(root_path):\n",
    "    os.makedirs(root_path)"
   ]
  },
  {
   "cell_type": "code",
   "execution_count": 18,
   "metadata": {},
   "outputs": [
    {
     "name": "stdout",
     "output_type": "stream",
     "text": [
      "12\n",
      "1\n",
      "1\n",
      "file written: C:\\Users\\langh\\Dropbox\\MCC-I Masters\\Thesis\\1. Dataset\\1. Satellite\\Dataset\\ITESM_21\\PASCAL_format/ImageSets/Segmentation\\train.txt\n",
      "file written: C:\\Users\\langh\\Dropbox\\MCC-I Masters\\Thesis\\1. Dataset\\1. Satellite\\Dataset\\ITESM_21\\PASCAL_format/ImageSets/Segmentation\\trainval.txt\n",
      "file written: C:\\Users\\langh\\Dropbox\\MCC-I Masters\\Thesis\\1. Dataset\\1. Satellite\\Dataset\\ITESM_21\\PASCAL_format/ImageSets/Segmentation\\val.txt\n"
     ]
    }
   ],
   "source": [
    "import numpy as np\n",
    "\n",
    "lista=GetLista(os.path.join(database_path,r'training'))\n",
    "np.random.seed(1)\n",
    "np.random.shuffle(lista)\n",
    "batch_size = int(np.ceil(len(lista)/4))\n",
    "train_list = lista[:batch_size*3] # 1462 1 0:22\n",
    "trainval_list = lista[batch_size*3:batch_size*4] # 2913 2 23:\n",
    "val_list = GetLista(os.path.join(database_path,r'testing'))\n",
    "\n",
    "print(len(train_list))\n",
    "print(len(trainval_list))\n",
    "print(len(val_list))\n",
    "\n",
    "import os\n",
    "def GenerateFile(filename, lista):\n",
    "    file_path = os.path.join(root_path, filename)\n",
    "    if(os.path.isfile(file_path)):\n",
    "        os.remove(file_path)\n",
    "    with open(file_path, 'w') as f:\n",
    "        f.write(\"\\n\".join(lista))\n",
    "    print(\"file written:\", file_path)\n",
    "\n",
    "GenerateFile(\"train.txt\", train_list)\n",
    "GenerateFile(\"trainval.txt\", trainval_list)\n",
    "GenerateFile(\"val.txt\", val_list)"
   ]
  }
 ],
 "metadata": {
  "kernelspec": {
   "display_name": "Python 3",
   "language": "python",
   "name": "python3"
  },
  "language_info": {
   "codemirror_mode": {
    "name": "ipython",
    "version": 3
   },
   "file_extension": ".py",
   "mimetype": "text/x-python",
   "name": "python",
   "nbconvert_exporter": "python",
   "pygments_lexer": "ipython3",
   "version": "3.6.4"
  }
 },
 "nbformat": 4,
 "nbformat_minor": 2
}
