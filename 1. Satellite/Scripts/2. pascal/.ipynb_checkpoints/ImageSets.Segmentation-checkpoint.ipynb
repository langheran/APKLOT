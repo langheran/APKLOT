{
 "cells": [
  {
   "cell_type": "code",
   "execution_count": 1,
   "metadata": {},
   "outputs": [],
   "source": [
    "import os\n",
    "\n",
    "image_root_path = \"../../images\"\n",
    "root_path0 = '../../database/PASCAL_format/ImageSets'\n",
    "root_path = '../../database/PASCAL_format/ImageSets/Segmentation'\n",
    "\n",
    "def GetLista(path):\n",
    "    global image_root_path\n",
    "    image_root_path = path\n",
    "    lista = [f.replace(\".json\",\"\") for f in os.listdir(image_root_path) if f.endswith(\".json\")]\n",
    "    return lista"
   ]
  },
  {
   "cell_type": "code",
   "execution_count": 2,
   "metadata": {},
   "outputs": [],
   "source": [
    "import  os\n",
    "\n",
    "if not os.path.exists(root_path0):\n",
    "    os.makedirs(root_path0)\n",
    "if not os.path.exists(root_path):\n",
    "    os.makedirs(root_path)"
   ]
  },
  {
   "cell_type": "code",
   "execution_count": 3,
   "metadata": {},
   "outputs": [
    {
     "ename": "NameError",
     "evalue": "name 'lista' is not defined",
     "output_type": "error",
     "traceback": [
      "\u001b[1;31m---------------------------------------------------------------------------\u001b[0m",
      "\u001b[1;31mNameError\u001b[0m                                 Traceback (most recent call last)",
      "\u001b[1;32m<ipython-input-3-e4ebbe1c6137>\u001b[0m in \u001b[0;36m<module>\u001b[1;34m()\u001b[0m\n\u001b[0;32m      3\u001b[0m \u001b[0mnp\u001b[0m\u001b[1;33m.\u001b[0m\u001b[0mrandom\u001b[0m\u001b[1;33m.\u001b[0m\u001b[0mseed\u001b[0m\u001b[1;33m(\u001b[0m\u001b[1;36m1\u001b[0m\u001b[1;33m)\u001b[0m\u001b[1;33m\u001b[0m\u001b[0m\n\u001b[0;32m      4\u001b[0m \u001b[1;33m\u001b[0m\u001b[0m\n\u001b[1;32m----> 5\u001b[1;33m \u001b[0mnp\u001b[0m\u001b[1;33m.\u001b[0m\u001b[0mrandom\u001b[0m\u001b[1;33m.\u001b[0m\u001b[0mshuffle\u001b[0m\u001b[1;33m(\u001b[0m\u001b[0mlista\u001b[0m\u001b[1;33m)\u001b[0m\u001b[1;33m\u001b[0m\u001b[0m\n\u001b[0m\u001b[0;32m      6\u001b[0m \u001b[1;33m\u001b[0m\u001b[0m\n\u001b[0;32m      7\u001b[0m \u001b[0mbatch_size\u001b[0m \u001b[1;33m=\u001b[0m \u001b[0mint\u001b[0m\u001b[1;33m(\u001b[0m\u001b[0mnp\u001b[0m\u001b[1;33m.\u001b[0m\u001b[0mceil\u001b[0m\u001b[1;33m(\u001b[0m\u001b[0mlen\u001b[0m\u001b[1;33m(\u001b[0m\u001b[0mlista\u001b[0m\u001b[1;33m)\u001b[0m\u001b[1;33m/\u001b[0m\u001b[1;36m4\u001b[0m\u001b[1;33m)\u001b[0m\u001b[1;33m)\u001b[0m\u001b[1;33m\u001b[0m\u001b[0m\n",
      "\u001b[1;31mNameError\u001b[0m: name 'lista' is not defined"
     ]
    }
   ],
   "source": [
    "import numpy as np\n",
    "\n",
    "lista=GetLista(\"../../database/training\")\n",
    "np.random.seed(1)\n",
    "np.random.shuffle(lista)\n",
    "batch_size = int(np.ceil(len(lista)/4))\n",
    "train_list = lista[:batch_size*3] # 1462 1 0:22\n",
    "trainval_list = lista[batch_size*3:batch_size*4] # 2913 2 23:\n",
    "val_list = GetLista(\"../../database/testing\")\n",
    "\n",
    "print(len(train_list))\n",
    "print(len(trainval_list))\n",
    "print(len(val_list))\n",
    "\n",
    "import os\n",
    "def GenerateFile(filename, lista):\n",
    "    file_path = os.path.join(root_path, filename)\n",
    "    if(os.path.isfile(file_path)):\n",
    "        os.remove(file_path)\n",
    "    with open(file_path, 'w') as f:\n",
    "        f.write(\"\\n\".join(lista))\n",
    "    print(\"file written:\", file_path)\n",
    "\n",
    "GenerateFile(\"train.txt\", train_list)\n",
    "GenerateFile(\"trainval.txt\", trainval_list)\n",
    "GenerateFile(\"val.txt\", val_list)"
   ]
  }
 ],
 "metadata": {
  "kernelspec": {
   "display_name": "Python 3",
   "language": "python",
   "name": "python3"
  },
  "language_info": {
   "codemirror_mode": {
    "name": "ipython",
    "version": 3
   },
   "file_extension": ".py",
   "mimetype": "text/x-python",
   "name": "python",
   "nbconvert_exporter": "python",
   "pygments_lexer": "ipython3",
   "version": "3.6.4"
  }
 },
 "nbformat": 4,
 "nbformat_minor": 2
}
