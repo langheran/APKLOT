{
 "cells": [
  {
   "cell_type": "code",
   "execution_count": 21,
   "metadata": {},
   "outputs": [],
   "source": [
    "import os\n",
    "\n",
    "database_path=r'C:\\Users\\langh\\Dropbox\\MCC-I Masters\\Thesis\\1. Dataset\\1. Satellite\\Dataset\\ITESM_20'\n",
    "PASCAL_PATH = os.path.join(database_path,r'PASCAL_format')\n",
    "image_root_path = os.path.join(PASCAL_PATH,r\"JPEGImages\")\n",
    "mask_root_path = os.path.join(PASCAL_PATH,r\"SegmentationClass\")\n",
    "object_mask_root_path = os.path.join(PASCAL_PATH,r\"SegmentationObject\")\n",
    "\n",
    "def GetLista():\n",
    "    global image_root_path\n",
    "    lista = [f.replace(\".jpg\",\"\") for f in os.listdir(image_root_path) if f.endswith(\".jpg\")]\n",
    "    return lista"
   ]
  },
  {
   "cell_type": "code",
   "execution_count": 22,
   "metadata": {},
   "outputs": [],
   "source": [
    "import  os\n",
    "if not os.path.exists(object_mask_root_path):\n",
    "    os.makedirs(object_mask_root_path)"
   ]
  },
  {
   "cell_type": "code",
   "execution_count": 23,
   "metadata": {},
   "outputs": [],
   "source": [
    "import seaborn as sns\n",
    "import cv2\n",
    "import os\n",
    "import numpy as np\n",
    "\n",
    "def PaintArea(l):\n",
    "    filename=os.path.join(mask_root_path,'{}.png'.format(l))\n",
    "    img = cv2.imread(filename,1)\n",
    "    img = cv2.cvtColor(img, cv2.COLOR_BGR2GRAY)\n",
    "    ret,thresh = cv2.threshold(img, 100, 255, cv2.THRESH_BINARY)\n",
    "    im2,contours,hierarchy = cv2.findContours(thresh, cv2.RETR_TREE, cv2.CHAIN_APPROX_SIMPLE)\n",
    "    cmap = sns.diverging_palette(240, 10, n=len(contours), as_cmap=False, center=\"light\")\n",
    "    mask = np.zeros((img.shape[0],img.shape[1],3), np.uint8)\n",
    "    for i, contour in enumerate(contours):\n",
    "        cv2.drawContours(mask, [contour], 0, (int(cmap[i][0]*255),int(cmap[0][1]*255),int(cmap[i][2]*255)), -1)\n",
    "    filename_output=os.path.join(object_mask_root_path,'{}.png'.format(l))\n",
    "    cv2.imwrite(filename_output, mask)\n",
    "    return 0"
   ]
  },
  {
   "cell_type": "code",
   "execution_count": 24,
   "metadata": {},
   "outputs": [],
   "source": [
    "import pandas as pd\n",
    "from matplotlib import pyplot as plt\n",
    "from IPython.display import display, Markdown, Latex\n",
    "\n",
    "lista=GetLista()\n",
    "for i,l in enumerate(lista):\n",
    "    PaintArea(l)"
   ]
  }
 ],
 "metadata": {
  "kernelspec": {
   "display_name": "Python 3",
   "language": "python",
   "name": "python3"
  },
  "language_info": {
   "codemirror_mode": {
    "name": "ipython",
    "version": 3
   },
   "file_extension": ".py",
   "mimetype": "text/x-python",
   "name": "python",
   "nbconvert_exporter": "python",
   "pygments_lexer": "ipython3",
   "version": "3.6.4"
  }
 },
 "nbformat": 4,
 "nbformat_minor": 2
}
