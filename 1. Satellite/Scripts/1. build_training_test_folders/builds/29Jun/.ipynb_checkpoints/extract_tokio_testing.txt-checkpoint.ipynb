{
 "cells": [
  {
   "cell_type": "code",
   "execution_count": 4,
   "metadata": {},
   "outputs": [
    {
     "data": {
      "text/plain": [
       "['152582726', '160704716', '187779925', '104907575', '71067186']"
      ]
     },
     "execution_count": 4,
     "metadata": {},
     "output_type": "execute_result"
    }
   ],
   "source": [
    "import os\n",
    "\n",
    "l310 = []\n",
    "with open(os.path.join(os.getcwd(),r\"310.txt\"), 'r') as filehandle:\n",
    "    l310 = [(\"{}\".format(current_file.rstrip())).replace(\".png\",\"\") for current_file in filehandle.readlines()]\n",
    "    \n",
    "l90 = []\n",
    "with open(os.path.join(os.getcwd(),r\"90.txt\"), 'r') as filehandle:\n",
    "    l90 = [(\"{}\".format(current_file.rstrip())).replace(\".png\",\"\") for current_file in filehandle.readlines()]\n",
    "    \n",
    "l500 = []\n",
    "with open(os.path.join(os.getcwd(),r\"500.txt\"), 'r') as filehandle:\n",
    "    l500 = [(\"{}\".format(current_file.rstrip())).replace(\".json\",\"\") for current_file in filehandle.readlines()]\n",
    "\n",
    "l400=list(set(l310).union(set(l90)))\n",
    "l100=list(set(l500)-set(l400))\n",
    "l100[:5]"
   ]
  },
  {
   "cell_type": "code",
   "execution_count": 5,
   "metadata": {},
   "outputs": [
    {
     "data": {
      "text/plain": [
       "'training.txt'"
      ]
     },
     "execution_count": 5,
     "metadata": {},
     "output_type": "execute_result"
    }
   ],
   "source": [
    "from shutil import copyfile\n",
    "\n",
    "with open('100.txt', 'w') as filehandle:  \n",
    "    filehandle.writelines(\"{}\\n\".format(parking) for parking in l100)\n",
    "\n",
    "copyfile(\"100.txt\", \"testing.txt\")\n",
    "\n",
    "with open('400.txt', 'w') as filehandle:  \n",
    "    filehandle.writelines(\"{}\\n\".format(parking) for parking in l400)\n",
    "\n",
    "copyfile(\"400.txt\", \"training.txt\")"
   ]
  },
  {
   "cell_type": "code",
   "execution_count": 7,
   "metadata": {},
   "outputs": [
    {
     "data": {
      "text/plain": [
       "['386442953', '148788621', '176329932', '159128651', '256399891']"
      ]
     },
     "execution_count": 7,
     "metadata": {},
     "output_type": "execute_result"
    }
   ],
   "source": [
    "import os\n",
    "l100 = []\n",
    "with open(os.path.join(os.getcwd(),r\"100.txt\"), 'r') as filehandle:\n",
    "    l100 = [\"{}\".format(current_file.rstrip()) for current_file in filehandle.readlines()]\n",
    "l100[:5]"
   ]
  }
 ],
 "metadata": {
  "kernelspec": {
   "display_name": "Python 3",
   "language": "python",
   "name": "python3"
  },
  "language_info": {
   "codemirror_mode": {
    "name": "ipython",
    "version": 3
   },
   "file_extension": ".py",
   "mimetype": "text/x-python",
   "name": "python",
   "nbconvert_exporter": "python",
   "pygments_lexer": "ipython3",
   "version": "3.6.4"
  }
 },
 "nbformat": 4,
 "nbformat_minor": 2
}
