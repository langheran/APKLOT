{
 "cells": [
  {
   "cell_type": "code",
   "execution_count": 1,
   "metadata": {},
   "outputs": [],
   "source": [
    "import os\n",
    "\n",
    "def GetLista():\n",
    "    global root_path\n",
    "    root_path=os.getcwd()\n",
    "    lista = [f.replace(\".json\",\"\") for f in os.listdir(root_path) if f.endswith(\".json\")]\n",
    "    return lista"
   ]
  },
  {
   "cell_type": "code",
   "execution_count": null,
   "metadata": {},
   "outputs": [],
   "source": [
    "import json\n",
    "lista=GetLista()\n",
    "for file in lista:\n",
    "    _json_path = os.path.join(root_path,file+'.json')\n",
    "    with open(_json_path, 'r') as f:\n",
    "        read_data = f.read()\n",
    "    _data = json.loads(read_data)\n",
    "    del _data[\"imageData\"]\n",
    "    with open(_json_path, 'w') as f:\n",
    "        json.dump(_data, f)"
   ]
  }
 ],
 "metadata": {
  "kernelspec": {
   "display_name": "Python 3",
   "language": "python",
   "name": "python3"
  },
  "language_info": {
   "codemirror_mode": {
    "name": "ipython",
    "version": 3
   },
   "file_extension": ".py",
   "mimetype": "text/x-python",
   "name": "python",
   "nbconvert_exporter": "python",
   "pygments_lexer": "ipython3",
   "version": "3.6.4"
  }
 },
 "nbformat": 4,
 "nbformat_minor": 2
}
