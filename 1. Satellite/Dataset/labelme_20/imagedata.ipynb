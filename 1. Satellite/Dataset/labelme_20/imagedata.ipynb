{
 "cells": [
  {
   "cell_type": "code",
   "execution_count": 2,
   "metadata": {},
   "outputs": [],
   "source": [
    "import os\n",
    "\n",
    "def GetLista():\n",
    "    global root_path\n",
    "    root_path=os.getcwd()\n",
    "    lista = [f.replace(\".json\",\"\") for f in os.listdir(root_path) if f.endswith(\".json\")]\n",
    "    return lista"
   ]
  },
  {
   "cell_type": "code",
   "execution_count": 2,
   "metadata": {},
   "outputs": [],
   "source": [
    "import json\n",
    "lista=GetLista()\n",
    "for file in lista:\n",
    "    _json_path = os.path.join(root_path,file+'.json')\n",
    "    with open(_json_path, 'r') as f:\n",
    "        read_data = f.read()\n",
    "    _data = json.loads(read_data)\n",
    "    del _data[\"imageData\"]\n",
    "    with open(_json_path, 'w') as f:\n",
    "        json.dump(_data, f)"
   ]
  },
  {
   "cell_type": "code",
   "execution_count": 3,
   "metadata": {},
   "outputs": [],
   "source": [
    "def image_base64(image):\n",
    "    if isinstance(image, str):\n",
    "        image = get_thumbnail(image)\n",
    "    image_read = image.read()\n",
    "    image.close()\n",
    "    image_64_encode = base64.encodestring(image_read)\n",
    "    data = image_64_encode.decode('ascii') \n",
    "    return data"
   ]
  },
  {
   "cell_type": "code",
   "execution_count": 7,
   "metadata": {},
   "outputs": [
    {
     "name": "stderr",
     "output_type": "stream",
     "text": [
      "C:\\Users\\langh\\Miniconda3\\lib\\site-packages\\ipykernel\\__main__.py:6: DeprecationWarning: encodestring() is a deprecated alias since 3.1, use encodebytes()\n"
     ]
    }
   ],
   "source": [
    "import json\n",
    "import base64\n",
    "\n",
    "image_data_folder=r\"C:\\Users\\langh\\Dropbox\\MCC-I Masters\\Thesis\\A17\\1. Training\\database\\PASCAL_format_train300\\JPEGImages\"\n",
    "\n",
    "lista=GetLista()\n",
    "for file in lista:\n",
    "    _json_path = os.path.join(root_path,file+'.json')\n",
    "    with open(_json_path, 'r') as f:\n",
    "        read_data = f.read()\n",
    "    _data = json.loads(read_data)\n",
    "    path=os.path.join(image_data_folder,file+'.jpg')\n",
    "    if(not os.path.exists(path)):\n",
    "        continue\n",
    "    image=open(path, 'rb')\n",
    "    _data[\"imageData\"]=image_base64(image)\n",
    "    with open(_json_path, 'w') as f:\n",
    "        json.dump(_data, f)"
   ]
  }
 ],
 "metadata": {
  "kernelspec": {
   "display_name": "Python 3",
   "language": "python",
   "name": "python3"
  },
  "language_info": {
   "codemirror_mode": {
    "name": "ipython",
    "version": 3
   },
   "file_extension": ".py",
   "mimetype": "text/x-python",
   "name": "python",
   "nbconvert_exporter": "python",
   "pygments_lexer": "ipython3",
   "version": "3.6.4"
  }
 },
 "nbformat": 4,
 "nbformat_minor": 2
}
